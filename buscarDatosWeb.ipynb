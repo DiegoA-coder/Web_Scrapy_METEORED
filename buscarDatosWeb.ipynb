{
 "cells": [
  {
   "cell_type": "code",
   "execution_count": 14,
   "metadata": {},
   "outputs": [],
   "source": [
    "import requests\n",
    "from bs4 import BeautifulSoup\n",
    "import pandas as pd"
   ]
  },
  {
   "cell_type": "markdown",
   "metadata": {},
   "source": [
    "realizamos la peticion a la web"
   ]
  },
  {
   "cell_type": "code",
   "execution_count": 15,
   "metadata": {},
   "outputs": [],
   "source": [
    "result= requests.get(\"https://www.meteored.mx/clima_Puebla-America+Norte-Mexico-Puebla--1-21044.html\")"
   ]
  },
  {
   "cell_type": "markdown",
   "metadata": {},
   "source": [
    "Obtenemos estatusCode y html en un string"
   ]
  },
  {
   "cell_type": "code",
   "execution_count": 16,
   "metadata": {},
   "outputs": [],
   "source": [
    "statusCode=result.status_code\n",
    "htmlText=result.text"
   ]
  },
  {
   "cell_type": "code",
   "execution_count": 17,
   "metadata": {},
   "outputs": [
    {
     "data": {
      "text/plain": [
       "200"
      ]
     },
     "execution_count": 17,
     "metadata": {},
     "output_type": "execute_result"
    }
   ],
   "source": [
    "statusCode"
   ]
  },
  {
   "cell_type": "markdown",
   "metadata": {},
   "source": [
    "pasamos el contenido html a un objeto BeautifulSoup"
   ]
  },
  {
   "cell_type": "code",
   "execution_count": 18,
   "metadata": {},
   "outputs": [],
   "source": [
    "html=BeautifulSoup(result.text, \"html.parser\")"
   ]
  },
  {
   "cell_type": "markdown",
   "metadata": {},
   "source": [
    "filtramos a entradas el contenido del objeto que esta en la etiquet 'td' y la clase 'first-column'"
   ]
  },
  {
   "cell_type": "code",
   "execution_count": 19,
   "metadata": {},
   "outputs": [],
   "source": [
    "entradas=html.find_all('td',{'class': 'first-column'})"
   ]
  },
  {
   "cell_type": "code",
   "execution_count": null,
   "metadata": {},
   "outputs": [],
   "source": []
  },
  {
   "cell_type": "markdown",
   "metadata": {},
   "source": [
    "De lo que obtuvimos filtramos para la etiqueta 'dd' en la clase 'ddD2', unicamente para la hora actual, en este caso es la pocision 0.\n",
    "recorremos con un for cada linea obteniendo el texto."
   ]
  },
  {
   "cell_type": "code",
   "execution_count": 7,
   "metadata": {},
   "outputs": [],
   "source": [
    "primeracol = [\"Puebla\",\"14:00\"]"
   ]
  },
  {
   "cell_type": "code",
   "execution_count": 8,
   "metadata": {},
   "outputs": [],
   "source": [
    "en=entradas[0].find_all('dd', {'class': 'ddD2'})\n",
    "aux=0\n",
    "for aux2 in  en:\n",
    "    primeracol.append(aux2.getText())\n",
    "    \n"
   ]
  },
  {
   "cell_type": "markdown",
   "metadata": {},
   "source": [
    "procedemos a sacar la segunda parte de los datos"
   ]
  },
  {
   "cell_type": "code",
   "execution_count": 10,
   "metadata": {},
   "outputs": [
    {
     "data": {
      "text/plain": [
       "['Puebla',\n",
       " '14:00',\n",
       " '5 FPS: 6-10',\n",
       " '34%',\n",
       " '54%',\n",
       " '5 km/h',\n",
       " '1014 hPa',\n",
       " '35 km',\n",
       " '25 °C',\n",
       " '7 °C',\n",
       " 'No',\n",
       " '35 km/h',\n",
       " '4800 m']"
      ]
     },
     "execution_count": 10,
     "metadata": {},
     "output_type": "execute_result"
    }
   ],
   "source": [
    "entradas=html.find_all('td',{'class': 'second-column'})\n",
    "en=entradas[0].find_all('dd', {'class': 'ddD2'})\n",
    "aux=0\n",
    "for aux2 in  en:\n",
    "    primeracol.append(aux2.getText())\n",
    "    \n",
    "primeracol"
   ]
  },
  {
   "cell_type": "markdown",
   "metadata": {},
   "source": [
    "Procedemos a sacar la direccion del viento que esta en otro apartado"
   ]
  },
  {
   "cell_type": "code",
   "execution_count": 42,
   "metadata": {},
   "outputs": [
    {
     "data": {
      "text/plain": [
       "'Sureste'"
      ]
     },
     "execution_count": 42,
     "metadata": {},
     "output_type": "execute_result"
    }
   ],
   "source": [
    "viento=html.find_all('span',{'class': 'datos-viento'})\n",
    "viento=viento[0].find_all('strong')\n",
    "viento[0].getText()"
   ]
  },
  {
   "cell_type": "markdown",
   "metadata": {},
   "source": [
    "limpieza de datos"
   ]
  },
  {
   "cell_type": "code",
   "execution_count": 43,
   "metadata": {},
   "outputs": [
    {
     "data": {
      "text/plain": [
       "['Puebla',\n",
       " '14:00',\n",
       " '5',\n",
       " '6-10',\n",
       " '34',\n",
       " '54',\n",
       " '5',\n",
       " '1014',\n",
       " '35',\n",
       " '25',\n",
       " '7',\n",
       " '0',\n",
       " '35',\n",
       " '4800']"
      ]
     },
     "execution_count": 43,
     "metadata": {},
     "output_type": "execute_result"
    }
   ],
   "source": [
    "fin=[primeracol[0]]\n",
    "fin.append(primeracol[1])\n",
    "#separamos primera linea\n",
    "aux= primeracol[2].split(\" FPS: \")\n",
    "fin.append(aux[0])\n",
    "#primer indice\n",
    "if (aux[1] == 'no'):\n",
    "        fin.append(\"0\")\n",
    "else:\n",
    "    fin.append(aux[1])\n",
    "#eliminamos ultimo caracter\n",
    "fin.append(primeracol[3][0:len(primeracol[3])-1])\n",
    "fin.append(primeracol[4][0:len(primeracol[4])-1])\n",
    "\n",
    "#separamos por espacio y guardamos primer token\n",
    "fin.append((primeracol[5].split(\" \"))[0])\n",
    "fin.append((primeracol[6].split(\" \"))[0])\n",
    "fin.append((primeracol[7].split(\" \"))[0])\n",
    "fin.append((primeracol[8].split(\" \"))[0])\n",
    "fin.append((primeracol[9].split(\" \"))[0])\n",
    "\n",
    "#identificamos si es numero o 'no'\n",
    "if (primeracol[10] == 'No'):\n",
    "        fin.append(\"0\")\n",
    "else:\n",
    "    fin.append(primeracol[10])\n",
    "\n",
    "#separamos por espacio\n",
    "fin.append((primeracol[11].split(\" \"))[0])\n",
    "fin.append((primeracol[12].split(\" \"))[0])\n",
    "fin"
   ]
  },
  {
   "cell_type": "markdown",
   "metadata": {},
   "source": [
    "guardamos en una base de datos"
   ]
  },
  {
   "cell_type": "code",
   "execution_count": 44,
   "metadata": {},
   "outputs": [
    {
     "data": {
      "text/html": [
       "<div>\n",
       "<style scoped>\n",
       "    .dataframe tbody tr th:only-of-type {\n",
       "        vertical-align: middle;\n",
       "    }\n",
       "\n",
       "    .dataframe tbody tr th {\n",
       "        vertical-align: top;\n",
       "    }\n",
       "\n",
       "    .dataframe thead th {\n",
       "        text-align: right;\n",
       "    }\n",
       "</style>\n",
       "<table border=\"1\" class=\"dataframe\">\n",
       "  <thead>\n",
       "    <tr style=\"text-align: right;\">\n",
       "      <th></th>\n",
       "      <th>Lugar</th>\n",
       "      <th>Hora</th>\n",
       "      <th>Indice UV</th>\n",
       "      <th>Algo</th>\n",
       "      <th>Humedad</th>\n",
       "      <th>Nubosidad</th>\n",
       "      <th>Viento-Medio</th>\n",
       "      <th>Presion</th>\n",
       "      <th>Visibilidad</th>\n",
       "      <th>Sensacion Termica</th>\n",
       "      <th>Punto de rocio</th>\n",
       "      <th>Niebla</th>\n",
       "      <th>Viento_racha</th>\n",
       "      <th>Cota Nieve</th>\n",
       "      <th>Viento_Medio</th>\n",
       "    </tr>\n",
       "  </thead>\n",
       "  <tbody>\n",
       "    <tr>\n",
       "      <td>0</td>\n",
       "      <td>Puebla</td>\n",
       "      <td>14:00</td>\n",
       "      <td>2</td>\n",
       "      <td>0</td>\n",
       "      <td>28</td>\n",
       "      <td>37</td>\n",
       "      <td>NaN</td>\n",
       "      <td>1012</td>\n",
       "      <td>40</td>\n",
       "      <td>25</td>\n",
       "      <td>5</td>\n",
       "      <td>0</td>\n",
       "      <td>30</td>\n",
       "      <td>4900</td>\n",
       "      <td>15</td>\n",
       "    </tr>\n",
       "    <tr>\n",
       "      <td>1</td>\n",
       "      <td>Puebla</td>\n",
       "      <td>14:00</td>\n",
       "      <td>2</td>\n",
       "      <td>0</td>\n",
       "      <td>28</td>\n",
       "      <td>37</td>\n",
       "      <td>NaN</td>\n",
       "      <td>1012</td>\n",
       "      <td>40</td>\n",
       "      <td>25</td>\n",
       "      <td>5</td>\n",
       "      <td>0</td>\n",
       "      <td>30</td>\n",
       "      <td>4900</td>\n",
       "      <td>15</td>\n",
       "    </tr>\n",
       "    <tr>\n",
       "      <td>2</td>\n",
       "      <td>Puebla</td>\n",
       "      <td>14:00</td>\n",
       "      <td>2</td>\n",
       "      <td>0</td>\n",
       "      <td>28</td>\n",
       "      <td>37</td>\n",
       "      <td>NaN</td>\n",
       "      <td>1012</td>\n",
       "      <td>40</td>\n",
       "      <td>25</td>\n",
       "      <td>5</td>\n",
       "      <td>0</td>\n",
       "      <td>30</td>\n",
       "      <td>4900</td>\n",
       "      <td>15</td>\n",
       "    </tr>\n",
       "    <tr>\n",
       "      <td>3</td>\n",
       "      <td>Puebla</td>\n",
       "      <td>14:00</td>\n",
       "      <td>0</td>\n",
       "      <td>0</td>\n",
       "      <td>43</td>\n",
       "      <td>39</td>\n",
       "      <td>NaN</td>\n",
       "      <td>1016</td>\n",
       "      <td>35</td>\n",
       "      <td>18</td>\n",
       "      <td>6</td>\n",
       "      <td>0</td>\n",
       "      <td>32</td>\n",
       "      <td>4700</td>\n",
       "      <td>14</td>\n",
       "    </tr>\n",
       "    <tr>\n",
       "      <td>4</td>\n",
       "      <td>Puebla</td>\n",
       "      <td>14:00</td>\n",
       "      <td>2</td>\n",
       "      <td>0</td>\n",
       "      <td>22</td>\n",
       "      <td>42</td>\n",
       "      <td>NaN</td>\n",
       "      <td>1014</td>\n",
       "      <td>40</td>\n",
       "      <td>25</td>\n",
       "      <td>2</td>\n",
       "      <td>0</td>\n",
       "      <td>40</td>\n",
       "      <td>4800</td>\n",
       "      <td>19</td>\n",
       "    </tr>\n",
       "  </tbody>\n",
       "</table>\n",
       "</div>"
      ],
      "text/plain": [
       "    Lugar   Hora  Indice UV  Algo  Humedad  Nubosidad  Viento-Medio  Presion  \\\n",
       "0  Puebla  14:00          2     0       28         37           NaN     1012   \n",
       "1  Puebla  14:00          2     0       28         37           NaN     1012   \n",
       "2  Puebla  14:00          2     0       28         37           NaN     1012   \n",
       "3  Puebla  14:00          0     0       43         39           NaN     1016   \n",
       "4  Puebla  14:00          2     0       22         42           NaN     1014   \n",
       "\n",
       "   Visibilidad  Sensacion Termica  Punto de rocio  Niebla  Viento_racha  \\\n",
       "0           40                 25               5       0            30   \n",
       "1           40                 25               5       0            30   \n",
       "2           40                 25               5       0            30   \n",
       "3           35                 18               6       0            32   \n",
       "4           40                 25               2       0            40   \n",
       "\n",
       "   Cota Nieve  Viento_Medio  \n",
       "0        4900            15  \n",
       "1        4900            15  \n",
       "2        4900            15  \n",
       "3        4700            14  \n",
       "4        4800            19  "
      ]
     },
     "execution_count": 44,
     "metadata": {},
     "output_type": "execute_result"
    }
   ],
   "source": [
    "#abrimos la tabla\n",
    "frame=pd.read_csv('auxx.csv')\n",
    "frame"
   ]
  },
  {
   "cell_type": "code",
   "execution_count": 45,
   "metadata": {},
   "outputs": [],
   "source": [
    "#creamoso una table igual para despues concatenar\n",
    "frame2=pd.DataFrame([fin],columns=[\"Lugar\",\"Hora\",\"Indice UV\",\"Algo\",\"Humedad\",\"Nubosidad\",\"Viento_Medio\",\"Presion\",\"Visibilidad\",\"Sensacion Termica\",\"Punto de rocio\",\"Niebla\",\"Viento_racha\",\"Cota Nieve\"])"
   ]
  },
  {
   "cell_type": "code",
   "execution_count": 46,
   "metadata": {},
   "outputs": [
    {
     "data": {
      "text/html": [
       "<div>\n",
       "<style scoped>\n",
       "    .dataframe tbody tr th:only-of-type {\n",
       "        vertical-align: middle;\n",
       "    }\n",
       "\n",
       "    .dataframe tbody tr th {\n",
       "        vertical-align: top;\n",
       "    }\n",
       "\n",
       "    .dataframe thead th {\n",
       "        text-align: right;\n",
       "    }\n",
       "</style>\n",
       "<table border=\"1\" class=\"dataframe\">\n",
       "  <thead>\n",
       "    <tr style=\"text-align: right;\">\n",
       "      <th></th>\n",
       "      <th>Lugar</th>\n",
       "      <th>Hora</th>\n",
       "      <th>Indice UV</th>\n",
       "      <th>Algo</th>\n",
       "      <th>Humedad</th>\n",
       "      <th>Nubosidad</th>\n",
       "      <th>Viento_Medio</th>\n",
       "      <th>Presion</th>\n",
       "      <th>Visibilidad</th>\n",
       "      <th>Sensacion Termica</th>\n",
       "      <th>Punto de rocio</th>\n",
       "      <th>Niebla</th>\n",
       "      <th>Viento_racha</th>\n",
       "      <th>Cota Nieve</th>\n",
       "    </tr>\n",
       "  </thead>\n",
       "  <tbody>\n",
       "    <tr>\n",
       "      <td>0</td>\n",
       "      <td>Puebla</td>\n",
       "      <td>14:00</td>\n",
       "      <td>5</td>\n",
       "      <td>6-10</td>\n",
       "      <td>34</td>\n",
       "      <td>54</td>\n",
       "      <td>5</td>\n",
       "      <td>1014</td>\n",
       "      <td>35</td>\n",
       "      <td>25</td>\n",
       "      <td>7</td>\n",
       "      <td>0</td>\n",
       "      <td>35</td>\n",
       "      <td>4800</td>\n",
       "    </tr>\n",
       "  </tbody>\n",
       "</table>\n",
       "</div>"
      ],
      "text/plain": [
       "    Lugar   Hora Indice UV  Algo Humedad Nubosidad Viento_Medio Presion  \\\n",
       "0  Puebla  14:00         5  6-10      34        54            5    1014   \n",
       "\n",
       "  Visibilidad Sensacion Termica Punto de rocio Niebla Viento_racha Cota Nieve  \n",
       "0          35                25              7      0           35       4800  "
      ]
     },
     "execution_count": 46,
     "metadata": {},
     "output_type": "execute_result"
    }
   ],
   "source": [
    "frame2"
   ]
  },
  {
   "cell_type": "code",
   "execution_count": 47,
   "metadata": {},
   "outputs": [],
   "source": [
    "#concatenamos\n",
    "res=frame.append(frame2,sort=False)\n"
   ]
  },
  {
   "cell_type": "code",
   "execution_count": 48,
   "metadata": {},
   "outputs": [],
   "source": [
    "#guardamos\n",
    "res.to_csv('auxx.csv', header=True, index=False)"
   ]
  },
  {
   "cell_type": "code",
   "execution_count": 35,
   "metadata": {},
   "outputs": [
    {
     "data": {
      "text/plain": [
       "['Puebla',\n",
       " '14:00',\n",
       " '2',\n",
       " '0',\n",
       " '22',\n",
       " '42',\n",
       " '19',\n",
       " '1014',\n",
       " '40',\n",
       " '25',\n",
       " '2',\n",
       " '0',\n",
       " '40',\n",
       " '4800']"
      ]
     },
     "execution_count": 35,
     "metadata": {},
     "output_type": "execute_result"
    }
   ],
   "source": []
  },
  {
   "cell_type": "code",
   "execution_count": 33,
   "metadata": {},
   "outputs": [
    {
     "data": {
      "text/html": [
       "<div>\n",
       "<style scoped>\n",
       "    .dataframe tbody tr th:only-of-type {\n",
       "        vertical-align: middle;\n",
       "    }\n",
       "\n",
       "    .dataframe tbody tr th {\n",
       "        vertical-align: top;\n",
       "    }\n",
       "\n",
       "    .dataframe thead th {\n",
       "        text-align: right;\n",
       "    }\n",
       "</style>\n",
       "<table border=\"1\" class=\"dataframe\">\n",
       "  <thead>\n",
       "    <tr style=\"text-align: right;\">\n",
       "      <th></th>\n",
       "      <th>Lugar</th>\n",
       "      <th>Hora</th>\n",
       "      <th>Indice UV</th>\n",
       "      <th>Algo</th>\n",
       "      <th>Humedad</th>\n",
       "      <th>Nubosidad</th>\n",
       "      <th>Viento-Medio</th>\n",
       "      <th>Presion</th>\n",
       "      <th>Visibilidad</th>\n",
       "      <th>Sensacion Termica</th>\n",
       "      <th>Punto de rocio</th>\n",
       "      <th>Niebla</th>\n",
       "      <th>Viento_racha</th>\n",
       "      <th>Cota Nieve</th>\n",
       "      <th>Viento_Medio</th>\n",
       "    </tr>\n",
       "  </thead>\n",
       "  <tbody>\n",
       "    <tr>\n",
       "      <td>0</td>\n",
       "      <td>Puebla</td>\n",
       "      <td>14:00</td>\n",
       "      <td>2</td>\n",
       "      <td>0</td>\n",
       "      <td>28</td>\n",
       "      <td>37</td>\n",
       "      <td>NaN</td>\n",
       "      <td>1012</td>\n",
       "      <td>40</td>\n",
       "      <td>25</td>\n",
       "      <td>5</td>\n",
       "      <td>0</td>\n",
       "      <td>30</td>\n",
       "      <td>4900</td>\n",
       "      <td>15</td>\n",
       "    </tr>\n",
       "    <tr>\n",
       "      <td>1</td>\n",
       "      <td>Puebla</td>\n",
       "      <td>14:00</td>\n",
       "      <td>2</td>\n",
       "      <td>0</td>\n",
       "      <td>28</td>\n",
       "      <td>37</td>\n",
       "      <td>NaN</td>\n",
       "      <td>1012</td>\n",
       "      <td>40</td>\n",
       "      <td>25</td>\n",
       "      <td>5</td>\n",
       "      <td>0</td>\n",
       "      <td>30</td>\n",
       "      <td>4900</td>\n",
       "      <td>15</td>\n",
       "    </tr>\n",
       "    <tr>\n",
       "      <td>2</td>\n",
       "      <td>Puebla</td>\n",
       "      <td>14:00</td>\n",
       "      <td>2</td>\n",
       "      <td>0</td>\n",
       "      <td>28</td>\n",
       "      <td>37</td>\n",
       "      <td>NaN</td>\n",
       "      <td>1012</td>\n",
       "      <td>40</td>\n",
       "      <td>25</td>\n",
       "      <td>5</td>\n",
       "      <td>0</td>\n",
       "      <td>30</td>\n",
       "      <td>4900</td>\n",
       "      <td>15</td>\n",
       "    </tr>\n",
       "    <tr>\n",
       "      <td>3</td>\n",
       "      <td>Puebla</td>\n",
       "      <td>14:00</td>\n",
       "      <td>0</td>\n",
       "      <td>0</td>\n",
       "      <td>43</td>\n",
       "      <td>39</td>\n",
       "      <td>NaN</td>\n",
       "      <td>1016</td>\n",
       "      <td>35</td>\n",
       "      <td>18</td>\n",
       "      <td>6</td>\n",
       "      <td>0</td>\n",
       "      <td>32</td>\n",
       "      <td>4700</td>\n",
       "      <td>14</td>\n",
       "    </tr>\n",
       "  </tbody>\n",
       "</table>\n",
       "</div>"
      ],
      "text/plain": [
       "    Lugar   Hora  Indice UV  Algo  Humedad  Nubosidad  Viento-Medio  Presion  \\\n",
       "0  Puebla  14:00          2     0       28         37           NaN     1012   \n",
       "1  Puebla  14:00          2     0       28         37           NaN     1012   \n",
       "2  Puebla  14:00          2     0       28         37           NaN     1012   \n",
       "3  Puebla  14:00          0     0       43         39           NaN     1016   \n",
       "\n",
       "   Visibilidad  Sensacion Termica  Punto de rocio  Niebla  Viento_racha  \\\n",
       "0           40                 25               5       0            30   \n",
       "1           40                 25               5       0            30   \n",
       "2           40                 25               5       0            30   \n",
       "3           35                 18               6       0            32   \n",
       "\n",
       "   Cota Nieve  Viento_Medio  \n",
       "0        4900            15  \n",
       "1        4900            15  \n",
       "2        4900            15  \n",
       "3        4700            14  "
      ]
     },
     "execution_count": 33,
     "metadata": {},
     "output_type": "execute_result"
    }
   ],
   "source": []
  },
  {
   "cell_type": "code",
   "execution_count": null,
   "metadata": {},
   "outputs": [],
   "source": []
  }
 ],
 "metadata": {
  "kernelspec": {
   "display_name": "Python 3",
   "language": "python",
   "name": "python3"
  },
  "language_info": {
   "codemirror_mode": {
    "name": "ipython",
    "version": 3
   },
   "file_extension": ".py",
   "mimetype": "text/x-python",
   "name": "python",
   "nbconvert_exporter": "python",
   "pygments_lexer": "ipython3",
   "version": "3.8.3"
  }
 },
 "nbformat": 4,
 "nbformat_minor": 2
}
